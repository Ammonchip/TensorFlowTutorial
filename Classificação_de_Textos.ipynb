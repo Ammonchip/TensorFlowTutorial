{
  "nbformat": 4,
  "nbformat_minor": 0,
  "metadata": {
    "colab": {
      "name": "Classificação de Textos.ipynb",
      "provenance": [],
      "authorship_tag": "ABX9TyMHzW8OJ1b4+MZpxuX7aUF2",
      "include_colab_link": true
    },
    "kernelspec": {
      "name": "python3",
      "display_name": "Python 3"
    }
  },
  "cells": [
    {
      "cell_type": "markdown",
      "metadata": {
        "id": "view-in-github",
        "colab_type": "text"
      },
      "source": [
        "<a href=\"https://colab.research.google.com/github/Ammonchip/TensorFlowTutorial/blob/main/Classifica%C3%A7%C3%A3o_de_Textos.ipynb\" target=\"_parent\"><img src=\"https://colab.research.google.com/assets/colab-badge.svg\" alt=\"Open In Colab\"/></a>"
      ]
    },
    {
      "cell_type": "code",
      "metadata": {
        "colab": {
          "base_uri": "https://localhost:8080/"
        },
        "id": "RHU7wMNtOk4A",
        "outputId": "80af0366-a1bd-4d02-9241-cea5e6f5af62"
      },
      "source": [
        "import tensorflow as tf\r\n",
        "from tensorflow import keras\r\n",
        "\r\n",
        "import numpy as np\r\n",
        "print(tf.__version__)"
      ],
      "execution_count": 2,
      "outputs": [
        {
          "output_type": "stream",
          "text": [
            "2.4.0\n"
          ],
          "name": "stdout"
        }
      ]
    },
    {
      "cell_type": "code",
      "metadata": {
        "colab": {
          "base_uri": "https://localhost:8080/"
        },
        "id": "mf087OMOO_Rj",
        "outputId": "83a089b2-f787-401a-e23b-ff462c305817"
      },
      "source": [
        "imdb = keras.datasets.imdb\r\n",
        "(train_data, train_labels), (test_data, test_labels) = imdb.load_data(num_words = 10000)"
      ],
      "execution_count": 3,
      "outputs": [
        {
          "output_type": "stream",
          "text": [
            "Downloading data from https://storage.googleapis.com/tensorflow/tf-keras-datasets/imdb.npz\n",
            "17465344/17464789 [==============================] - 1s 0us/step\n"
          ],
          "name": "stdout"
        },
        {
          "output_type": "stream",
          "text": [
            "<string>:6: VisibleDeprecationWarning: Creating an ndarray from ragged nested sequences (which is a list-or-tuple of lists-or-tuples-or ndarrays with different lengths or shapes) is deprecated. If you meant to do this, you must specify 'dtype=object' when creating the ndarray\n",
            "/usr/local/lib/python3.6/dist-packages/tensorflow/python/keras/datasets/imdb.py:159: VisibleDeprecationWarning: Creating an ndarray from ragged nested sequences (which is a list-or-tuple of lists-or-tuples-or ndarrays with different lengths or shapes) is deprecated. If you meant to do this, you must specify 'dtype=object' when creating the ndarray\n",
            "  x_train, y_train = np.array(xs[:idx]), np.array(labels[:idx])\n",
            "/usr/local/lib/python3.6/dist-packages/tensorflow/python/keras/datasets/imdb.py:160: VisibleDeprecationWarning: Creating an ndarray from ragged nested sequences (which is a list-or-tuple of lists-or-tuples-or ndarrays with different lengths or shapes) is deprecated. If you meant to do this, you must specify 'dtype=object' when creating the ndarray\n",
            "  x_test, y_test = np.array(xs[idx:]), np.array(labels[idx:])\n"
          ],
          "name": "stderr"
        }
      ]
    },
    {
      "cell_type": "code",
      "metadata": {
        "colab": {
          "base_uri": "https://localhost:8080/"
        },
        "id": "pJslocE4RGPV",
        "outputId": "2b8fd73a-f112-4235-d211-aa24d5bdd68f"
      },
      "source": [
        "print(\"Training entries: {}, labels: {}\".format(len(train_data), len(train_labels)))"
      ],
      "execution_count": 4,
      "outputs": [
        {
          "output_type": "stream",
          "text": [
            "Training entries: 25000, labels: 25000\n"
          ],
          "name": "stdout"
        }
      ]
    },
    {
      "cell_type": "code",
      "metadata": {
        "colab": {
          "base_uri": "https://localhost:8080/"
        },
        "id": "nmUmJmUxRe7N",
        "outputId": "2182de62-04be-4114-9941-0de932308783"
      },
      "source": [
        "print(train_data[0])"
      ],
      "execution_count": 5,
      "outputs": [
        {
          "output_type": "stream",
          "text": [
            "[1, 14, 22, 16, 43, 530, 973, 1622, 1385, 65, 458, 4468, 66, 3941, 4, 173, 36, 256, 5, 25, 100, 43, 838, 112, 50, 670, 2, 9, 35, 480, 284, 5, 150, 4, 172, 112, 167, 2, 336, 385, 39, 4, 172, 4536, 1111, 17, 546, 38, 13, 447, 4, 192, 50, 16, 6, 147, 2025, 19, 14, 22, 4, 1920, 4613, 469, 4, 22, 71, 87, 12, 16, 43, 530, 38, 76, 15, 13, 1247, 4, 22, 17, 515, 17, 12, 16, 626, 18, 2, 5, 62, 386, 12, 8, 316, 8, 106, 5, 4, 2223, 5244, 16, 480, 66, 3785, 33, 4, 130, 12, 16, 38, 619, 5, 25, 124, 51, 36, 135, 48, 25, 1415, 33, 6, 22, 12, 215, 28, 77, 52, 5, 14, 407, 16, 82, 2, 8, 4, 107, 117, 5952, 15, 256, 4, 2, 7, 3766, 5, 723, 36, 71, 43, 530, 476, 26, 400, 317, 46, 7, 4, 2, 1029, 13, 104, 88, 4, 381, 15, 297, 98, 32, 2071, 56, 26, 141, 6, 194, 7486, 18, 4, 226, 22, 21, 134, 476, 26, 480, 5, 144, 30, 5535, 18, 51, 36, 28, 224, 92, 25, 104, 4, 226, 65, 16, 38, 1334, 88, 12, 16, 283, 5, 16, 4472, 113, 103, 32, 15, 16, 5345, 19, 178, 32]\n"
          ],
          "name": "stdout"
        }
      ]
    },
    {
      "cell_type": "code",
      "metadata": {
        "colab": {
          "base_uri": "https://localhost:8080/"
        },
        "id": "g_lQu5cfRiHd",
        "outputId": "936a98e8-ba09-4b61-b812-c228da642c3a"
      },
      "source": [
        "len(train_data[0]), len(train_data[1])"
      ],
      "execution_count": 6,
      "outputs": [
        {
          "output_type": "execute_result",
          "data": {
            "text/plain": [
              "(218, 189)"
            ]
          },
          "metadata": {
            "tags": []
          },
          "execution_count": 6
        }
      ]
    },
    {
      "cell_type": "code",
      "metadata": {
        "id": "yH3QCs51RyuY"
      },
      "source": [
        "#Um dicionario mapeando palavras em indices inteiros\r\n",
        "word_index = imdb.get_word_index()\r\n",
        "\r\n",
        "#Os primeiros indices são reservados\r\n",
        "word_index = {k: (v + 3) for k, v in word_index.items()}\r\n",
        "word_index[\"<PAD>\"] = 0\r\n",
        "word_index[\"<START>\"] = 1\r\n",
        "word_index[\"<UNK>\"] = 2 #unknown\r\n",
        "word_index[\"<UNUSED>\"] = 3\r\n",
        "\r\n",
        "reverse_word_index = dict([(value, key) for (key, value) in word_index.items()])\r\n",
        "\r\n",
        "def decode_review(text):\r\n",
        "  return ' '.join([reverse_word_index.get(i, '?') for i in text])"
      ],
      "execution_count": 8,
      "outputs": []
    },
    {
      "cell_type": "code",
      "metadata": {
        "colab": {
          "base_uri": "https://localhost:8080/",
          "height": 137
        },
        "id": "GH-vFu-FYwxj",
        "outputId": "80b7369d-617c-465c-8008-fcf46238a2b1"
      },
      "source": [
        "decode_review(train_data[0])"
      ],
      "execution_count": 9,
      "outputs": [
        {
          "output_type": "execute_result",
          "data": {
            "application/vnd.google.colaboratory.intrinsic+json": {
              "type": "string"
            },
            "text/plain": [
              "\"<START> this film was just brilliant casting location scenery story direction everyone's really suited the part they played and you could just imagine being there robert <UNK> is an amazing actor and now the same being director <UNK> father came from the same scottish island as myself so i loved the fact there was a real connection with this film the witty remarks throughout the film were great it was just brilliant so much that i bought the film as soon as it was released for <UNK> and would recommend it to everyone to watch and the fly fishing was amazing really cried at the end it was so sad and you know what they say if you cry at a film it must have been good and this definitely was also <UNK> to the two little boy's that played the <UNK> of norman and paul they were just brilliant children are often left out of the <UNK> list i think because the stars that play them all grown up are such a big profile for the whole film but these children are amazing and should be praised for what they have done don't you think the whole story was so lovely because it was true and was someone's life after all that was shared with us all\""
            ]
          },
          "metadata": {
            "tags": []
          },
          "execution_count": 9
        }
      ]
    },
    {
      "cell_type": "code",
      "metadata": {
        "id": "0Dt-8uuxbt8U"
      },
      "source": [
        "train_data = keras.preprocessing.sequence.pad_sequences(train_data,\r\n",
        "                                                        value = word_index[\"<PAD>\"],\r\n",
        "                                                        padding = 'post',\r\n",
        "                                                        maxlen = 256)\r\n",
        "\r\n",
        "test_data = keras.preprocessing.sequence.pad_sequences(test_data,\r\n",
        "                                                       value = word_index[\"<PAD>\"],\r\n",
        "                                                       padding = 'post',\r\n",
        "                                                       maxlen = 256)"
      ],
      "execution_count": 11,
      "outputs": []
    },
    {
      "cell_type": "code",
      "metadata": {
        "colab": {
          "base_uri": "https://localhost:8080/"
        },
        "id": "8swmRxGuccsn",
        "outputId": "f7878f0c-9ab3-4764-ca91-a4087a79dd36"
      },
      "source": [
        "len(train_data[0]), len(train_data[1])"
      ],
      "execution_count": 12,
      "outputs": [
        {
          "output_type": "execute_result",
          "data": {
            "text/plain": [
              "(256, 256)"
            ]
          },
          "metadata": {
            "tags": []
          },
          "execution_count": 12
        }
      ]
    },
    {
      "cell_type": "code",
      "metadata": {
        "colab": {
          "base_uri": "https://localhost:8080/"
        },
        "id": "50s4Dx-kcx8U",
        "outputId": "43772dde-ae07-466b-9e35-86051e9b557e"
      },
      "source": [
        "print(train_data[0])"
      ],
      "execution_count": 13,
      "outputs": [
        {
          "output_type": "stream",
          "text": [
            "[   1   14   22   16   43  530  973 1622 1385   65  458 4468   66 3941\n",
            "    4  173   36  256    5   25  100   43  838  112   50  670    2    9\n",
            "   35  480  284    5  150    4  172  112  167    2  336  385   39    4\n",
            "  172 4536 1111   17  546   38   13  447    4  192   50   16    6  147\n",
            " 2025   19   14   22    4 1920 4613  469    4   22   71   87   12   16\n",
            "   43  530   38   76   15   13 1247    4   22   17  515   17   12   16\n",
            "  626   18    2    5   62  386   12    8  316    8  106    5    4 2223\n",
            " 5244   16  480   66 3785   33    4  130   12   16   38  619    5   25\n",
            "  124   51   36  135   48   25 1415   33    6   22   12  215   28   77\n",
            "   52    5   14  407   16   82    2    8    4  107  117 5952   15  256\n",
            "    4    2    7 3766    5  723   36   71   43  530  476   26  400  317\n",
            "   46    7    4    2 1029   13  104   88    4  381   15  297   98   32\n",
            " 2071   56   26  141    6  194 7486   18    4  226   22   21  134  476\n",
            "   26  480    5  144   30 5535   18   51   36   28  224   92   25  104\n",
            "    4  226   65   16   38 1334   88   12   16  283    5   16 4472  113\n",
            "  103   32   15   16 5345   19  178   32    0    0    0    0    0    0\n",
            "    0    0    0    0    0    0    0    0    0    0    0    0    0    0\n",
            "    0    0    0    0    0    0    0    0    0    0    0    0    0    0\n",
            "    0    0    0    0]\n"
          ],
          "name": "stdout"
        }
      ]
    },
    {
      "cell_type": "code",
      "metadata": {
        "colab": {
          "base_uri": "https://localhost:8080/"
        },
        "id": "OX4nd1TidpDa",
        "outputId": "7bf1fd75-391a-4cb2-fd4c-78cac0d8f867"
      },
      "source": [
        "#O formato de entrada é a contagem vocabulários usados pelas avaliações dos filmes (10000) palavras\r\n",
        "vocab_size = 10000\r\n",
        "model = keras.Sequential()\r\n",
        "model.add(keras.layers.Embedding(vocab_size, 16))\r\n",
        "model.add(keras.layers.GlobalAveragePooling1D())\r\n",
        "model.add(keras.layers.Dense(16, activation = 'relu'))\r\n",
        "model.add(keras.layers.Dense(1, activation = 'sigmoid'))\r\n",
        "\r\n",
        "model.summary()"
      ],
      "execution_count": 14,
      "outputs": [
        {
          "output_type": "stream",
          "text": [
            "Model: \"sequential\"\n",
            "_________________________________________________________________\n",
            "Layer (type)                 Output Shape              Param #   \n",
            "=================================================================\n",
            "embedding (Embedding)        (None, None, 16)          160000    \n",
            "_________________________________________________________________\n",
            "global_average_pooling1d (Gl (None, 16)                0         \n",
            "_________________________________________________________________\n",
            "dense (Dense)                (None, 16)                272       \n",
            "_________________________________________________________________\n",
            "dense_1 (Dense)              (None, 1)                 17        \n",
            "=================================================================\n",
            "Total params: 160,289\n",
            "Trainable params: 160,289\n",
            "Non-trainable params: 0\n",
            "_________________________________________________________________\n"
          ],
          "name": "stdout"
        }
      ]
    },
    {
      "cell_type": "code",
      "metadata": {
        "id": "tVEQdjdFgWql"
      },
      "source": [
        "model.compile(optimizer = 'adam',\r\n",
        "              loss = 'binary_crossentropy',\r\n",
        "              metrics = ['accuracy'])"
      ],
      "execution_count": 15,
      "outputs": []
    },
    {
      "cell_type": "code",
      "metadata": {
        "id": "_Q9OqP0dgkBp"
      },
      "source": [
        "x_val = train_data[:10000]\r\n",
        "partial_x_train = train_data[10000:]\r\n",
        "\r\n",
        "y_val = train_labels[:10000]\r\n",
        "partial_y_train = train_labels[10000:]"
      ],
      "execution_count": 16,
      "outputs": []
    },
    {
      "cell_type": "code",
      "metadata": {
        "colab": {
          "base_uri": "https://localhost:8080/"
        },
        "id": "1GxdcPZVhQYL",
        "outputId": "1f185556-43fd-4a6c-d036-b00033df14c6"
      },
      "source": [
        "histoy = model.fit(partial_x_train,\r\n",
        "                   partial_y_train,\r\n",
        "                   epochs = 40,\r\n",
        "                   batch_size = 512,\r\n",
        "                   validation_data = (x_val, y_val),\r\n",
        "                   verbose = 1)"
      ],
      "execution_count": 17,
      "outputs": [
        {
          "output_type": "stream",
          "text": [
            "Epoch 1/40\n",
            "30/30 [==============================] - 1s 20ms/step - loss: 0.6925 - accuracy: 0.5367 - val_loss: 0.6896 - val_accuracy: 0.6413\n",
            "Epoch 2/40\n",
            "30/30 [==============================] - 0s 16ms/step - loss: 0.6877 - accuracy: 0.7187 - val_loss: 0.6826 - val_accuracy: 0.7365\n",
            "Epoch 3/40\n",
            "30/30 [==============================] - 0s 15ms/step - loss: 0.6787 - accuracy: 0.7467 - val_loss: 0.6704 - val_accuracy: 0.7370\n",
            "Epoch 4/40\n",
            "30/30 [==============================] - 0s 15ms/step - loss: 0.6633 - accuracy: 0.7624 - val_loss: 0.6517 - val_accuracy: 0.7631\n",
            "Epoch 5/40\n",
            "30/30 [==============================] - 0s 16ms/step - loss: 0.6411 - accuracy: 0.7834 - val_loss: 0.6251 - val_accuracy: 0.7682\n",
            "Epoch 6/40\n",
            "30/30 [==============================] - 0s 15ms/step - loss: 0.6104 - accuracy: 0.7964 - val_loss: 0.5924 - val_accuracy: 0.7986\n",
            "Epoch 7/40\n",
            "30/30 [==============================] - 0s 15ms/step - loss: 0.5730 - accuracy: 0.8133 - val_loss: 0.5553 - val_accuracy: 0.8135\n",
            "Epoch 8/40\n",
            "30/30 [==============================] - 0s 15ms/step - loss: 0.5308 - accuracy: 0.8395 - val_loss: 0.5166 - val_accuracy: 0.8181\n",
            "Epoch 9/40\n",
            "30/30 [==============================] - 0s 16ms/step - loss: 0.4876 - accuracy: 0.8459 - val_loss: 0.4791 - val_accuracy: 0.8315\n",
            "Epoch 10/40\n",
            "30/30 [==============================] - 0s 16ms/step - loss: 0.4456 - accuracy: 0.8636 - val_loss: 0.4442 - val_accuracy: 0.8469\n",
            "Epoch 11/40\n",
            "30/30 [==============================] - 0s 15ms/step - loss: 0.4074 - accuracy: 0.8747 - val_loss: 0.4148 - val_accuracy: 0.8536\n",
            "Epoch 12/40\n",
            "30/30 [==============================] - 0s 16ms/step - loss: 0.3772 - accuracy: 0.8760 - val_loss: 0.3903 - val_accuracy: 0.8587\n",
            "Epoch 13/40\n",
            "30/30 [==============================] - 0s 16ms/step - loss: 0.3444 - accuracy: 0.8914 - val_loss: 0.3704 - val_accuracy: 0.8628\n",
            "Epoch 14/40\n",
            "30/30 [==============================] - 0s 15ms/step - loss: 0.3216 - accuracy: 0.8937 - val_loss: 0.3536 - val_accuracy: 0.8669\n",
            "Epoch 15/40\n",
            "30/30 [==============================] - 0s 15ms/step - loss: 0.3002 - accuracy: 0.9006 - val_loss: 0.3404 - val_accuracy: 0.8703\n",
            "Epoch 16/40\n",
            "30/30 [==============================] - 0s 16ms/step - loss: 0.2858 - accuracy: 0.9022 - val_loss: 0.3292 - val_accuracy: 0.8743\n",
            "Epoch 17/40\n",
            "30/30 [==============================] - 0s 15ms/step - loss: 0.2672 - accuracy: 0.9091 - val_loss: 0.3206 - val_accuracy: 0.8755\n",
            "Epoch 18/40\n",
            "30/30 [==============================] - 0s 14ms/step - loss: 0.2537 - accuracy: 0.9105 - val_loss: 0.3126 - val_accuracy: 0.8781\n",
            "Epoch 19/40\n",
            "30/30 [==============================] - 0s 15ms/step - loss: 0.2409 - accuracy: 0.9182 - val_loss: 0.3068 - val_accuracy: 0.8784\n",
            "Epoch 20/40\n",
            "30/30 [==============================] - 0s 15ms/step - loss: 0.2281 - accuracy: 0.9223 - val_loss: 0.3014 - val_accuracy: 0.8806\n",
            "Epoch 21/40\n",
            "30/30 [==============================] - 0s 16ms/step - loss: 0.2195 - accuracy: 0.9256 - val_loss: 0.2972 - val_accuracy: 0.8814\n",
            "Epoch 22/40\n",
            "30/30 [==============================] - 0s 16ms/step - loss: 0.2070 - accuracy: 0.9287 - val_loss: 0.2940 - val_accuracy: 0.8820\n",
            "Epoch 23/40\n",
            "30/30 [==============================] - 0s 16ms/step - loss: 0.1951 - accuracy: 0.9338 - val_loss: 0.2912 - val_accuracy: 0.8829\n",
            "Epoch 24/40\n",
            "30/30 [==============================] - 0s 16ms/step - loss: 0.1892 - accuracy: 0.9394 - val_loss: 0.2887 - val_accuracy: 0.8839\n",
            "Epoch 25/40\n",
            "30/30 [==============================] - 0s 16ms/step - loss: 0.1822 - accuracy: 0.9400 - val_loss: 0.2872 - val_accuracy: 0.8844\n",
            "Epoch 26/40\n",
            "30/30 [==============================] - 0s 15ms/step - loss: 0.1728 - accuracy: 0.9452 - val_loss: 0.2864 - val_accuracy: 0.8837\n",
            "Epoch 27/40\n",
            "30/30 [==============================] - 0s 15ms/step - loss: 0.1685 - accuracy: 0.9451 - val_loss: 0.2851 - val_accuracy: 0.8847\n",
            "Epoch 28/40\n",
            "30/30 [==============================] - 0s 15ms/step - loss: 0.1613 - accuracy: 0.9504 - val_loss: 0.2849 - val_accuracy: 0.8843\n",
            "Epoch 29/40\n",
            "30/30 [==============================] - 0s 15ms/step - loss: 0.1600 - accuracy: 0.9518 - val_loss: 0.2849 - val_accuracy: 0.8848\n",
            "Epoch 30/40\n",
            "30/30 [==============================] - 0s 14ms/step - loss: 0.1469 - accuracy: 0.9550 - val_loss: 0.2852 - val_accuracy: 0.8852\n",
            "Epoch 31/40\n",
            "30/30 [==============================] - 0s 16ms/step - loss: 0.1467 - accuracy: 0.9542 - val_loss: 0.2860 - val_accuracy: 0.8852\n",
            "Epoch 32/40\n",
            "30/30 [==============================] - 1s 19ms/step - loss: 0.1357 - accuracy: 0.9601 - val_loss: 0.2869 - val_accuracy: 0.8852\n",
            "Epoch 33/40\n",
            "30/30 [==============================] - 0s 14ms/step - loss: 0.1341 - accuracy: 0.9620 - val_loss: 0.2885 - val_accuracy: 0.8846\n",
            "Epoch 34/40\n",
            "30/30 [==============================] - 0s 16ms/step - loss: 0.1305 - accuracy: 0.9632 - val_loss: 0.2908 - val_accuracy: 0.8848\n",
            "Epoch 35/40\n",
            "30/30 [==============================] - 0s 16ms/step - loss: 0.1230 - accuracy: 0.9651 - val_loss: 0.2912 - val_accuracy: 0.8860\n",
            "Epoch 36/40\n",
            "30/30 [==============================] - 0s 15ms/step - loss: 0.1188 - accuracy: 0.9646 - val_loss: 0.2931 - val_accuracy: 0.8852\n",
            "Epoch 37/40\n",
            "30/30 [==============================] - 0s 16ms/step - loss: 0.1161 - accuracy: 0.9678 - val_loss: 0.2953 - val_accuracy: 0.8845\n",
            "Epoch 38/40\n",
            "30/30 [==============================] - 0s 15ms/step - loss: 0.1103 - accuracy: 0.9698 - val_loss: 0.2989 - val_accuracy: 0.8833\n",
            "Epoch 39/40\n",
            "30/30 [==============================] - 0s 15ms/step - loss: 0.1086 - accuracy: 0.9690 - val_loss: 0.3001 - val_accuracy: 0.8841\n",
            "Epoch 40/40\n",
            "30/30 [==============================] - 0s 16ms/step - loss: 0.1012 - accuracy: 0.9718 - val_loss: 0.3022 - val_accuracy: 0.8842\n"
          ],
          "name": "stdout"
        }
      ]
    },
    {
      "cell_type": "code",
      "metadata": {
        "colab": {
          "base_uri": "https://localhost:8080/"
        },
        "id": "F1i7IP1dixqH",
        "outputId": "44c33b3b-c205-4ecb-90cb-0a06cb642a37"
      },
      "source": [
        "results = model.evaluate(test_data, test_labels, verbose = 2)\r\n",
        "\r\n",
        "print(results)"
      ],
      "execution_count": 18,
      "outputs": [
        {
          "output_type": "stream",
          "text": [
            "782/782 - 1s - loss: 0.3223 - accuracy: 0.8730\n",
            "[0.32226109504699707, 0.8730400204658508]\n"
          ],
          "name": "stdout"
        }
      ]
    },
    {
      "cell_type": "code",
      "metadata": {
        "colab": {
          "base_uri": "https://localhost:8080/"
        },
        "id": "u4p6PN9JjOW9",
        "outputId": "003460d1-771d-4135-aacb-5a3dbaaa4ddc"
      },
      "source": [
        "history_dict = histoy.history\r\n",
        "history_dict.keys()"
      ],
      "execution_count": 19,
      "outputs": [
        {
          "output_type": "execute_result",
          "data": {
            "text/plain": [
              "dict_keys(['loss', 'accuracy', 'val_loss', 'val_accuracy'])"
            ]
          },
          "metadata": {
            "tags": []
          },
          "execution_count": 19
        }
      ]
    },
    {
      "cell_type": "code",
      "metadata": {
        "colab": {
          "base_uri": "https://localhost:8080/",
          "height": 295
        },
        "id": "dy0Ihmnbjhao",
        "outputId": "464666dd-d064-4466-c3e9-54b21af41d2f"
      },
      "source": [
        "import matplotlib.pyplot as plt\r\n",
        "\r\n",
        "acc = history_dict['accuracy']\r\n",
        "val_acc = history_dict['val_accuracy']\r\n",
        "loss = history_dict['loss']\r\n",
        "val_loss = history_dict['val_loss']\r\n",
        "\r\n",
        "epochs = range(1, len(acc) + 1)\r\n",
        "\r\n",
        "#bo is for \"blue dot\"\r\n",
        "plt.plot(epochs, loss, 'bo', label = 'Training loss')\r\n",
        "#b is for \"solid blue line\"\r\n",
        "plt.plot(epochs, val_loss, 'b', label = 'Validation loss')\r\n",
        "plt.title('Training and validation loss')\r\n",
        "plt.xlabel('Epochs')\r\n",
        "plt.ylabel('Loss')\r\n",
        "plt.legend()\r\n",
        "plt.show()"
      ],
      "execution_count": 20,
      "outputs": [
        {
          "output_type": "display_data",
          "data": {
            "image/png": "[encoded data removed]",
            "text/plain": [
              "<Figure size 432x288 with 1 Axes>"
            ]
          },
          "metadata": {
            "tags": [],
            "needs_background": "light"
          }
        }
      ]
    },
    {
      "cell_type": "code",
      "metadata": {
        "colab": {
          "base_uri": "https://localhost:8080/",
          "height": 295
        },
        "id": "2qIgxjZglK9p",
        "outputId": "f01acab1-fd52-4e66-e34a-8e9272ecfee6"
      },
      "source": [
        "plt.clf()\r\n",
        "plt.plot(epochs, acc, 'bo', label = 'Training acc')\r\n",
        "plt.plot(epochs, val_acc, 'b', label = 'Validation acc')\r\n",
        "plt.title('Training and validation accuracy')\r\n",
        "plt.xlabel('Epochs')\r\n",
        "plt.ylabel('Accuracy')\r\n",
        "plt.legend()\r\n",
        "\r\n",
        "plt.show()"
      ],
      "execution_count": 21,
      "outputs": [
        {
          "output_type": "display_data",
          "data": {
            "image/png": "[encoded data removed]",
            "text/plain": [
              "<Figure size 432x288 with 1 Axes>"
            ]
          },
          "metadata": {
            "tags": [],
            "needs_background": "light"
          }
        }
      ]
    }
  ]
}